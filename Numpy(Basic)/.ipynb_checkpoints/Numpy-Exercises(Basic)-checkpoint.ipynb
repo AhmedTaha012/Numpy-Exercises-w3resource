{
 "cells": [
  {
   "cell_type": "code",
   "execution_count": 2,
   "id": "a2b1bd6a",
   "metadata": {
    "ExecuteTime": {
     "end_time": "2022-02-26T19:40:27.059486Z",
     "start_time": "2022-02-26T19:40:23.236602Z"
    }
   },
   "outputs": [],
   "source": [
    "import numpy as np"
   ]
  },
  {
   "cell_type": "markdown",
   "id": "0ca2730b",
   "metadata": {},
   "source": [
    "1)Write a NumPy program to get the numpy version and show numpy build configuration"
   ]
  },
  {
   "cell_type": "code",
   "execution_count": 2,
   "id": "db5ef514",
   "metadata": {
    "ExecuteTime": {
     "end_time": "2022-02-25T22:45:24.318647Z",
     "start_time": "2022-02-25T22:45:24.294153Z"
    }
   },
   "outputs": [
    {
     "name": "stdout",
     "output_type": "stream",
     "text": [
      "1.21.2\n",
      "blas_mkl_info:\n",
      "  NOT AVAILABLE\n",
      "blis_info:\n",
      "  NOT AVAILABLE\n",
      "openblas_info:\n",
      "    library_dirs = ['D:\\\\a\\\\1\\\\s\\\\numpy\\\\build\\\\openblas_info']\n",
      "    libraries = ['openblas_info']\n",
      "    language = f77\n",
      "    define_macros = [('HAVE_CBLAS', None)]\n",
      "blas_opt_info:\n",
      "    library_dirs = ['D:\\\\a\\\\1\\\\s\\\\numpy\\\\build\\\\openblas_info']\n",
      "    libraries = ['openblas_info']\n",
      "    language = f77\n",
      "    define_macros = [('HAVE_CBLAS', None)]\n",
      "lapack_mkl_info:\n",
      "  NOT AVAILABLE\n",
      "openblas_lapack_info:\n",
      "    library_dirs = ['D:\\\\a\\\\1\\\\s\\\\numpy\\\\build\\\\openblas_lapack_info']\n",
      "    libraries = ['openblas_lapack_info']\n",
      "    language = f77\n",
      "    define_macros = [('HAVE_CBLAS', None)]\n",
      "lapack_opt_info:\n",
      "    library_dirs = ['D:\\\\a\\\\1\\\\s\\\\numpy\\\\build\\\\openblas_lapack_info']\n",
      "    libraries = ['openblas_lapack_info']\n",
      "    language = f77\n",
      "    define_macros = [('HAVE_CBLAS', None)]\n",
      "Supported SIMD extensions in this NumPy install:\n",
      "    baseline = SSE,SSE2,SSE3\n",
      "    found = SSSE3,SSE41,POPCNT,SSE42,AVX,F16C,FMA3,AVX2\n",
      "    not found = AVX512F,AVX512CD,AVX512_SKX,AVX512_CLX,AVX512_CNL\n",
      "None\n"
     ]
    }
   ],
   "source": [
    "print(np.version.version)\n",
    "print(np.show_config())"
   ]
  },
  {
   "cell_type": "markdown",
   "id": "11a6a56d",
   "metadata": {},
   "source": [
    "2)Write a NumPy program to  get help on the add function"
   ]
  },
  {
   "cell_type": "code",
   "execution_count": 4,
   "id": "0ea3404c",
   "metadata": {
    "ExecuteTime": {
     "end_time": "2022-02-25T22:55:24.580433Z",
     "start_time": "2022-02-25T22:55:24.566626Z"
    }
   },
   "outputs": [
    {
     "name": "stdout",
     "output_type": "stream",
     "text": [
      "add(x1, x2, /, out=None, *, where=True, casting='same_kind', order='K', dtype=None, subok=True[, signature, extobj])\n",
      "\n",
      "Add arguments element-wise.\n",
      "\n",
      "Parameters\n",
      "----------\n",
      "x1, x2 : array_like\n",
      "    The arrays to be added.\n",
      "    If ``x1.shape != x2.shape``, they must be broadcastable to a common\n",
      "    shape (which becomes the shape of the output).\n",
      "out : ndarray, None, or tuple of ndarray and None, optional\n",
      "    A location into which the result is stored. If provided, it must have\n",
      "    a shape that the inputs broadcast to. If not provided or None,\n",
      "    a freshly-allocated array is returned. A tuple (possible only as a\n",
      "    keyword argument) must have length equal to the number of outputs.\n",
      "where : array_like, optional\n",
      "    This condition is broadcast over the input. At locations where the\n",
      "    condition is True, the `out` array will be set to the ufunc result.\n",
      "    Elsewhere, the `out` array will retain its original value.\n",
      "    Note that if an uninitialized `out` array is created via the default\n",
      "    ``out=None``, locations within it where the condition is False will\n",
      "    remain uninitialized.\n",
      "**kwargs\n",
      "    For other keyword-only arguments, see the\n",
      "    :ref:`ufunc docs <ufuncs.kwargs>`.\n",
      "\n",
      "Returns\n",
      "-------\n",
      "add : ndarray or scalar\n",
      "    The sum of `x1` and `x2`, element-wise.\n",
      "    This is a scalar if both `x1` and `x2` are scalars.\n",
      "\n",
      "Notes\n",
      "-----\n",
      "Equivalent to `x1` + `x2` in terms of array broadcasting.\n",
      "\n",
      "Examples\n",
      "--------\n",
      ">>> np.add(1.0, 4.0)\n",
      "5.0\n",
      ">>> x1 = np.arange(9.0).reshape((3, 3))\n",
      ">>> x2 = np.arange(3.0)\n",
      ">>> np.add(x1, x2)\n",
      "array([[  0.,   2.,   4.],\n",
      "       [  3.,   5.,   7.],\n",
      "       [  6.,   8.,  10.]])\n",
      "\n",
      "The ``+`` operator can be used as a shorthand for ``np.add`` on ndarrays.\n",
      "\n",
      ">>> x1 = np.arange(9.0).reshape((3, 3))\n",
      ">>> x2 = np.arange(3.0)\n",
      ">>> x1 + x2\n",
      "array([[ 0.,  2.,  4.],\n",
      "       [ 3.,  5.,  7.],\n",
      "       [ 6.,  8., 10.]])\n"
     ]
    }
   ],
   "source": [
    "np.info(np.add)"
   ]
  },
  {
   "cell_type": "markdown",
   "id": "86f606b2",
   "metadata": {},
   "source": [
    "3. Write a NumPy program to test whether none of the elements of a given array is zero"
   ]
  },
  {
   "cell_type": "code",
   "execution_count": 9,
   "id": "c0d3014a",
   "metadata": {
    "ExecuteTime": {
     "end_time": "2022-02-25T23:02:20.596626Z",
     "start_time": "2022-02-25T23:02:20.574686Z"
    }
   },
   "outputs": [
    {
     "data": {
      "text/plain": [
       "False"
      ]
     },
     "execution_count": 9,
     "metadata": {},
     "output_type": "execute_result"
    }
   ],
   "source": [
    "array=np.array([10,5,0])\n",
    "np.all(array)"
   ]
  },
  {
   "cell_type": "markdown",
   "id": "3c003d21",
   "metadata": {},
   "source": [
    "4. Write a NumPy program to test whether any of the elements of a given array is non-zero"
   ]
  },
  {
   "cell_type": "code",
   "execution_count": 11,
   "id": "2bb87c1e",
   "metadata": {
    "ExecuteTime": {
     "end_time": "2022-02-25T23:07:11.407040Z",
     "start_time": "2022-02-25T23:07:11.390033Z"
    }
   },
   "outputs": [
    {
     "data": {
      "text/plain": [
       "True"
      ]
     },
     "execution_count": 11,
     "metadata": {},
     "output_type": "execute_result"
    }
   ],
   "source": [
    "array=np.array([10,0,0])\n",
    "np.any(array)##only one elemet not zero"
   ]
  },
  {
   "cell_type": "markdown",
   "id": "d22cb88f",
   "metadata": {},
   "source": [
    "5. Write a NumPy program to test a given array element-wise for finiteness"
   ]
  },
  {
   "cell_type": "code",
   "execution_count": 17,
   "id": "021c1259",
   "metadata": {
    "ExecuteTime": {
     "end_time": "2022-02-25T23:15:34.449178Z",
     "start_time": "2022-02-25T23:15:34.432911Z"
    }
   },
   "outputs": [
    {
     "data": {
      "text/plain": [
       "array([ True,  True,  True])"
      ]
     },
     "execution_count": 17,
     "metadata": {},
     "output_type": "execute_result"
    }
   ],
   "source": [
    "array=np.array([10,4,6])\n",
    "np.isfinite(array)"
   ]
  },
  {
   "cell_type": "markdown",
   "id": "ad28da9a",
   "metadata": {},
   "source": [
    "6. Write a NumPy program to test element-wise for positive or negative infinity"
   ]
  },
  {
   "cell_type": "code",
   "execution_count": 21,
   "id": "6ecee091",
   "metadata": {
    "ExecuteTime": {
     "end_time": "2022-02-25T23:19:00.943781Z",
     "start_time": "2022-02-25T23:19:00.930072Z"
    }
   },
   "outputs": [
    {
     "name": "stdout",
     "output_type": "stream",
     "text": [
      "[False  True  True]\n",
      "[False False False]\n"
     ]
    }
   ],
   "source": [
    "array=np.array([10,np.Inf,np.Inf])\n",
    "print(np.isposinf(array))\n",
    "print(np.isneginf(array))"
   ]
  },
  {
   "cell_type": "markdown",
   "id": "341fbce3",
   "metadata": {},
   "source": [
    "7. Write a NumPy program to test element-wise for NaN of a given array."
   ]
  },
  {
   "cell_type": "code",
   "execution_count": 22,
   "id": "95b5b474",
   "metadata": {
    "ExecuteTime": {
     "end_time": "2022-02-25T23:20:10.567264Z",
     "start_time": "2022-02-25T23:20:10.548017Z"
    }
   },
   "outputs": [
    {
     "data": {
      "text/plain": [
       "array([False, False,  True])"
      ]
     },
     "execution_count": 22,
     "metadata": {},
     "output_type": "execute_result"
    }
   ],
   "source": [
    "array=np.array([10,np.Inf,np.NAN])\n",
    "np.isnan(array)"
   ]
  },
  {
   "cell_type": "markdown",
   "id": "79986691",
   "metadata": {},
   "source": [
    "8. Write a NumPy program to test element-wise for complex number, real number of a given array. Also test whether a given number is a scalar type or not."
   ]
  },
  {
   "cell_type": "code",
   "execution_count": 24,
   "id": "d0177bc2",
   "metadata": {
    "ExecuteTime": {
     "end_time": "2022-02-25T23:25:45.835475Z",
     "start_time": "2022-02-25T23:25:45.821465Z"
    }
   },
   "outputs": [
    {
     "name": "stdout",
     "output_type": "stream",
     "text": [
      "[False False False  True  True]\n",
      "False\n",
      "[ True  True  True False False]\n"
     ]
    }
   ],
   "source": [
    "array=np.array([10,np.Inf,np.NAN,1+2j,5+8j])\n",
    "print(np.iscomplex(array))\n",
    "print(np.isscalar(array))\n",
    "print(np.isreal(array))"
   ]
  },
  {
   "cell_type": "markdown",
   "id": "4c04d4ba",
   "metadata": {},
   "source": [
    "9. Write a NumPy program to test whether two arrays are element-wise equal within a tolerance."
   ]
  },
  {
   "cell_type": "code",
   "execution_count": 27,
   "id": "f889619e",
   "metadata": {
    "ExecuteTime": {
     "end_time": "2022-02-25T23:31:30.340717Z",
     "start_time": "2022-02-25T23:31:30.330907Z"
    }
   },
   "outputs": [
    {
     "data": {
      "text/plain": [
       "True"
      ]
     },
     "execution_count": 27,
     "metadata": {},
     "output_type": "execute_result"
    }
   ],
   "source": [
    "array1=np.array([1e10,1e-8])\n",
    "array2=np.array([1.0000e10,1e-8])\n",
    "np.allclose(array1,array2)"
   ]
  },
  {
   "cell_type": "markdown",
   "id": "e251a682",
   "metadata": {},
   "source": [
    "10. Write a NumPy program to create an element-wise comparison (greater, greater_equal, less and less_equal) of two given arrays."
   ]
  },
  {
   "cell_type": "code",
   "execution_count": 29,
   "id": "758d785b",
   "metadata": {
    "ExecuteTime": {
     "end_time": "2022-02-25T23:36:29.493684Z",
     "start_time": "2022-02-25T23:36:29.483711Z"
    },
    "scrolled": true
   },
   "outputs": [
    {
     "name": "stdout",
     "output_type": "stream",
     "text": [
      "[False False]\n",
      "[False  True]\n",
      "[ True False]\n",
      "[ True  True]\n"
     ]
    }
   ],
   "source": [
    "x=np.array([3,8])\n",
    "y=np.array([7,8])\n",
    "print(np.greater(x,y))\n",
    "print(np.greater_equal(x,y))\n",
    "print(np.less(x,y))\n",
    "print(np.less_equal(x,y))"
   ]
  },
  {
   "cell_type": "markdown",
   "id": "d21c8f5a",
   "metadata": {},
   "source": [
    "11. Write a NumPy program to create an element-wise comparison (equal, equal within a tolerance) of two given arrays"
   ]
  },
  {
   "cell_type": "code",
   "execution_count": 4,
   "id": "f72ed420",
   "metadata": {
    "ExecuteTime": {
     "end_time": "2022-02-26T19:56:00.904279Z",
     "start_time": "2022-02-26T19:55:59.563599Z"
    }
   },
   "outputs": [
    {
     "name": "stdout",
     "output_type": "stream",
     "text": [
      "[False  True]\n",
      "False\n"
     ]
    }
   ],
   "source": [
    "x=np.array([3,8])\n",
    "y=np.array([7,8])\n",
    "print(np.equal(x,y))\n",
    "print(np.allclose(x,y))"
   ]
  },
  {
   "cell_type": "markdown",
   "id": "d282f57d",
   "metadata": {},
   "source": [
    "12. Write a NumPy program to create an array with the values 1, 7, 13, 105 and determine the size of the memory occupied by the array"
   ]
  },
  {
   "cell_type": "code",
   "execution_count": 11,
   "id": "d81f3868",
   "metadata": {
    "ExecuteTime": {
     "end_time": "2022-02-26T20:17:50.903012Z",
     "start_time": "2022-02-26T20:17:50.893039Z"
    }
   },
   "outputs": [
    {
     "name": "stdout",
     "output_type": "stream",
     "text": [
      "16\n"
     ]
    }
   ],
   "source": [
    "arr=np.array([1,7,13,105])\n",
    "print(\"size in memory is:\",arr.size*arr.itemsize)"
   ]
  },
  {
   "cell_type": "markdown",
   "id": "21ec28c3",
   "metadata": {},
   "source": [
    "Write a NumPy program to create an array of 10 zeros,10 ones, 10 fives."
   ]
  },
  {
   "cell_type": "code",
   "execution_count": 9,
   "id": "97925e95",
   "metadata": {
    "ExecuteTime": {
     "end_time": "2022-02-26T20:13:58.728425Z",
     "start_time": "2022-02-26T20:13:58.707369Z"
    }
   },
   "outputs": [
    {
     "name": "stdout",
     "output_type": "stream",
     "text": [
      "zeros [0. 0. 0. 0. 0. 0. 0. 0. 0. 0.]\n",
      "ones [1. 1. 1. 1. 1. 1. 1. 1. 1. 1.]\n",
      "ones [5. 5. 5. 5. 5. 5. 5. 5. 5. 5.]\n"
     ]
    }
   ],
   "source": [
    "arr1=np.zeros((10))\n",
    "print(\"zeros\",arr1)\n",
    "arr2=np.ones((10))\n",
    "print(\"ones\",arr2)\n",
    "arr3=np.ones((10))*5\n",
    "print(\"ones\",arr3)"
   ]
  },
  {
   "cell_type": "markdown",
   "id": "4bcd7902",
   "metadata": {},
   "source": [
    " Write a NumPy program to create an array of the integers from 30 to70."
   ]
  },
  {
   "cell_type": "code",
   "execution_count": 15,
   "id": "e951b9a3",
   "metadata": {
    "ExecuteTime": {
     "end_time": "2022-02-26T20:23:17.484456Z",
     "start_time": "2022-02-26T20:23:17.469498Z"
    }
   },
   "outputs": [
    {
     "name": "stdout",
     "output_type": "stream",
     "text": [
      "[30 31 32 33 34 35 36 37 38 39 40 41 42 43 44 45 46 47 48 49 50 51 52 53\n",
      " 54 55 56 57 58 59 60 61 62 63 64 65 66 67 68 69 70]\n",
      "[30 31 32 33 34 35 36 37 38 39 40 41 42 43 44 45 46 47 48 49 50 51 52 53\n",
      " 54 55 56 57 58 59 60 61 62 63 64 65 66 67 68 69 70]\n"
     ]
    }
   ],
   "source": [
    "arr=np.array(list(range(30,71)))\n",
    "print(arr)\n",
    "##or\n",
    "arr=np.arange(30,71)\n",
    "print(arr)"
   ]
  },
  {
   "cell_type": "markdown",
   "id": "3a8ab152",
   "metadata": {},
   "source": [
    "Write a NumPy program to create an array of all the even integers from 30 to 70"
   ]
  },
  {
   "cell_type": "code",
   "execution_count": 17,
   "id": "6966e948",
   "metadata": {
    "ExecuteTime": {
     "end_time": "2022-02-26T20:27:22.366053Z",
     "start_time": "2022-02-26T20:27:22.354085Z"
    }
   },
   "outputs": [
    {
     "data": {
      "text/plain": [
       "array([30, 32, 34, 36, 38, 40, 42, 44, 46, 48, 50, 52, 54, 56, 58, 60, 62,\n",
       "       64, 66, 68, 70])"
      ]
     },
     "execution_count": 17,
     "metadata": {},
     "output_type": "execute_result"
    }
   ],
   "source": [
    "arr=np.arange(30,71,2)\n",
    "arr"
   ]
  },
  {
   "cell_type": "markdown",
   "id": "d2122ebd",
   "metadata": {},
   "source": [
    "Write a NumPy program to create a 3x3 identity matrix"
   ]
  },
  {
   "cell_type": "code",
   "execution_count": 19,
   "id": "41667042",
   "metadata": {
    "ExecuteTime": {
     "end_time": "2022-02-26T20:31:44.694783Z",
     "start_time": "2022-02-26T20:31:44.608067Z"
    }
   },
   "outputs": [
    {
     "data": {
      "text/plain": [
       "array([[1., 0., 0.],\n",
       "       [0., 1., 0.],\n",
       "       [0., 0., 1.]])"
      ]
     },
     "execution_count": 19,
     "metadata": {},
     "output_type": "execute_result"
    }
   ],
   "source": [
    "arr=np.identity(3)\n",
    "arr"
   ]
  },
  {
   "cell_type": "markdown",
   "id": "cbbe758a",
   "metadata": {},
   "source": [
    "Write a NumPy program to generate a random number between 0 and 1"
   ]
  },
  {
   "cell_type": "code",
   "execution_count": 29,
   "id": "6d503ff5",
   "metadata": {
    "ExecuteTime": {
     "end_time": "2022-02-26T20:43:39.757116Z",
     "start_time": "2022-02-26T20:43:39.733040Z"
    }
   },
   "outputs": [
    {
     "name": "stdout",
     "output_type": "stream",
     "text": [
      "5x5 [[ 0.97532117 -1.71772812  0.82479727  2.09394107  2.14025104]\n",
      " [ 0.98430875  0.20444729 -1.07345695 -0.65437491 -0.14010174]\n",
      " [ 0.30212288  0.23708404 -0.13000664 -1.1026763   0.11632966]\n",
      " [ 0.943668    1.28929103  1.43794128 -1.32302305 -0.24382023]\n",
      " [ 0.44792615  0.65628587  0.34233835  1.48042526  0.25103337]]\n",
      "1 [0.82469655]\n"
     ]
    }
   ],
   "source": [
    "arr=np.random.normal(0,1,(5,5))##last one is for number of dimensions\n",
    "print(\"5x5\",arr)\n",
    "arr=np.random.normal(0,1,1)##last one is for number of dimensions\n",
    "print(\"1\",arr)"
   ]
  },
  {
   "cell_type": "markdown",
   "id": "2c9453a1",
   "metadata": {},
   "source": [
    "Write a NumPy program to generate an array of 15 random numbers from a standard normal distribution."
   ]
  },
  {
   "cell_type": "code",
   "execution_count": 30,
   "id": "d0c23e45",
   "metadata": {
    "ExecuteTime": {
     "end_time": "2022-02-26T20:44:26.151187Z",
     "start_time": "2022-02-26T20:44:26.140163Z"
    }
   },
   "outputs": [
    {
     "data": {
      "text/plain": [
       "array([-0.37926217, -1.03080036,  0.19164205, -0.75221537, -0.32720071,\n",
       "        1.22383563,  0.32748874,  1.17480326,  1.45519583,  2.47310667,\n",
       "       -0.30139759, -0.12170924, -0.54322987,  0.47715619, -0.80020067])"
      ]
     },
     "execution_count": 30,
     "metadata": {},
     "output_type": "execute_result"
    }
   ],
   "source": [
    "arr=np.random.standard_normal(15)\n",
    "arr"
   ]
  },
  {
   "cell_type": "markdown",
   "id": "02bf2e57",
   "metadata": {},
   "source": [
    "Write a NumPy program to create a vector with values ranging from 15 to 55 and print all values except the first and last"
   ]
  },
  {
   "cell_type": "code",
   "execution_count": 32,
   "id": "6cbf1d82",
   "metadata": {
    "ExecuteTime": {
     "end_time": "2022-02-26T20:50:10.610305Z",
     "start_time": "2022-02-26T20:50:10.598287Z"
    }
   },
   "outputs": [
    {
     "data": {
      "text/plain": [
       "array([16, 17, 18, 19, 20, 21, 22, 23, 24, 25, 26, 27, 28, 29, 30, 31, 32,\n",
       "       33, 34, 35, 36, 37, 38, 39, 40, 41, 42, 43, 44, 45, 46, 47, 48, 49,\n",
       "       50, 51, 52, 53, 54])"
      ]
     },
     "execution_count": 32,
     "metadata": {},
     "output_type": "execute_result"
    }
   ],
   "source": [
    "arr=np.arange(15,56)\n",
    "arr[1:-1]"
   ]
  },
  {
   "cell_type": "markdown",
   "id": "8ee3c4d5",
   "metadata": {},
   "source": [
    "Write a NumPy program to create a 3X4 array using and iterate over it"
   ]
  },
  {
   "cell_type": "code",
   "execution_count": 42,
   "id": "fcd3d294",
   "metadata": {
    "ExecuteTime": {
     "end_time": "2022-02-26T21:28:51.269686Z",
     "start_time": "2022-02-26T21:28:51.250776Z"
    }
   },
   "outputs": [
    {
     "name": "stdout",
     "output_type": "stream",
     "text": [
      "1.0\n",
      "1.0\n",
      "1.0\n",
      "1.0\n",
      "1.0\n",
      "1.0\n",
      "1.0\n",
      "1.0\n",
      "1.0\n",
      "1.0\n",
      "1.0\n",
      "1.0\n",
      "1.0 1.0 1.0 1.0 1.0 1.0 1.0 1.0 1.0 1.0 1.0 1.0 "
     ]
    }
   ],
   "source": [
    "arr=np.ones((3,4))\n",
    "for i in range(arr.shape[0]):\n",
    "    for j in range(arr.shape[1]):\n",
    "        print(arr[i][j])\n",
    "##########################################or############################\n",
    "for x in np.nditer(arr):\n",
    "  print(x,end=\" \")"
   ]
  },
  {
   "cell_type": "markdown",
   "id": "d9544f3c",
   "metadata": {},
   "source": [
    "# Write a NumPy program to create a vector of length 10 with values evenly distributed between 5 and 50 (line space)"
   ]
  },
  {
   "cell_type": "code",
   "execution_count": 37,
   "id": "7ed4cd31",
   "metadata": {
    "ExecuteTime": {
     "end_time": "2022-02-26T21:25:01.426717Z",
     "start_time": "2022-02-26T21:25:01.416700Z"
    }
   },
   "outputs": [
    {
     "data": {
      "text/plain": [
       "array([ 5., 10., 15., 20., 25., 30., 35., 40., 45., 50.])"
      ]
     },
     "execution_count": 37,
     "metadata": {},
     "output_type": "execute_result"
    }
   ],
   "source": [
    "vec=np.linspace(5,50,10)\n",
    "vec"
   ]
  },
  {
   "cell_type": "markdown",
   "id": "b88d00bf",
   "metadata": {},
   "source": [
    "Write a NumPy program to create a vector with values from 0 to 20 and change the sign of the numbers in the range from 9 to 15"
   ]
  },
  {
   "cell_type": "code",
   "execution_count": 49,
   "id": "a6a1aa5b",
   "metadata": {
    "ExecuteTime": {
     "end_time": "2022-02-26T21:32:36.489030Z",
     "start_time": "2022-02-26T21:32:36.467088Z"
    }
   },
   "outputs": [
    {
     "name": "stdout",
     "output_type": "stream",
     "text": [
      "[  0   1   2   3   4   5   6   7   8  -9 -10 -11 -12 -13 -14 -15  16  17\n",
      "  18  19  20]\n",
      "[  0   1   2   3   4   5   6   7   8  -9 -10 -11 -12 -13 -14 -15  16  17\n",
      "  18  19  20]\n"
     ]
    }
   ],
   "source": [
    "arr=np.arange(0,21)\n",
    "arr[9:16]=arr[9:16]*-1\n",
    "print(arr)\n",
    "########################################or#############################\n",
    "arr[(arr >= 9) & (arr <= 15)] *= -1\n",
    "print(arr)\n"
   ]
  },
  {
   "cell_type": "markdown",
   "id": "c9cdc0c0",
   "metadata": {},
   "source": [
    " Write a NumPy program to create a vector of length 5 filled with arbitrary integers from 0 to 10."
   ]
  },
  {
   "cell_type": "code",
   "execution_count": 59,
   "id": "2152c561",
   "metadata": {
    "ExecuteTime": {
     "end_time": "2022-02-26T21:54:43.868108Z",
     "start_time": "2022-02-26T21:54:43.859125Z"
    }
   },
   "outputs": [
    {
     "data": {
      "text/plain": [
       "array([ 5,  0,  8,  6, 10])"
      ]
     },
     "execution_count": 59,
     "metadata": {},
     "output_type": "execute_result"
    }
   ],
   "source": [
    "arr=np.random.randint(0,11,5)\n",
    "arr"
   ]
  },
  {
   "cell_type": "markdown",
   "id": "10ecee18",
   "metadata": {},
   "source": [
    " Write a NumPy program to create a 3x4 matrix filled with values from 10 to 21"
   ]
  },
  {
   "cell_type": "code",
   "execution_count": 53,
   "id": "3603f38e",
   "metadata": {
    "ExecuteTime": {
     "end_time": "2022-02-26T21:49:24.690365Z",
     "start_time": "2022-02-26T21:49:24.679355Z"
    }
   },
   "outputs": [
    {
     "data": {
      "text/plain": [
       "array([[10, 11, 12, 13],\n",
       "       [14, 15, 16, 17],\n",
       "       [18, 19, 20, 21]])"
      ]
     },
     "execution_count": 53,
     "metadata": {},
     "output_type": "execute_result"
    }
   ],
   "source": [
    "arr=np.arange(10,22)\n",
    "arr.reshape((3,4))\n"
   ]
  },
  {
   "cell_type": "markdown",
   "id": "4426a637",
   "metadata": {},
   "source": [
    "Write a NumPy program to create a 3x3 identity matrix, i.e. diagonal elements are 1, the rest are 0."
   ]
  },
  {
   "cell_type": "code",
   "execution_count": 64,
   "id": "f1bc048a",
   "metadata": {
    "ExecuteTime": {
     "end_time": "2022-02-26T21:56:44.600376Z",
     "start_time": "2022-02-26T21:56:44.593354Z"
    }
   },
   "outputs": [
    {
     "name": "stdout",
     "output_type": "stream",
     "text": [
      "[[1. 0. 0.]\n",
      " [0. 1. 0.]\n",
      " [0. 0. 1.]]\n",
      "[[1. 0. 0.]\n",
      " [0. 1. 0.]\n",
      " [0. 0. 1.]]\n"
     ]
    }
   ],
   "source": [
    "arr=np.identity(3)\n",
    "print(arr)\n",
    "#################################or###################\n",
    "arr=np.eye(3)\n",
    "print(arr)"
   ]
  },
  {
   "cell_type": "markdown",
   "id": "632d99be",
   "metadata": {},
   "source": [
    "Write a NumPy program to create a 10x10 matrix, in which the elements on the borders will be equal to 1, and inside 0."
   ]
  },
  {
   "cell_type": "code",
   "execution_count": 73,
   "id": "1fba3d55",
   "metadata": {
    "ExecuteTime": {
     "end_time": "2022-02-26T22:04:40.606237Z",
     "start_time": "2022-02-26T22:04:40.596222Z"
    }
   },
   "outputs": [
    {
     "data": {
      "text/plain": [
       "array([[1., 1., 1., 1., 1., 1., 1., 1., 1., 1.],\n",
       "       [1., 0., 0., 0., 0., 0., 0., 0., 0., 1.],\n",
       "       [1., 0., 0., 0., 0., 0., 0., 0., 0., 1.],\n",
       "       [1., 0., 0., 0., 0., 0., 0., 0., 0., 1.],\n",
       "       [1., 0., 0., 0., 0., 0., 0., 0., 0., 1.],\n",
       "       [1., 0., 0., 0., 0., 0., 0., 0., 0., 1.],\n",
       "       [1., 0., 0., 0., 0., 0., 0., 0., 0., 1.],\n",
       "       [1., 0., 0., 0., 0., 0., 0., 0., 0., 1.],\n",
       "       [1., 0., 0., 0., 0., 0., 0., 0., 0., 1.],\n",
       "       [1., 1., 1., 1., 1., 1., 1., 1., 1., 1.]])"
      ]
     },
     "execution_count": 73,
     "metadata": {},
     "output_type": "execute_result"
    }
   ],
   "source": [
    "arr=np.ones((10,10))\n",
    "arr[1:-1,1:-1]=0\n",
    "arr"
   ]
  },
  {
   "cell_type": "markdown",
   "id": "9919fd8a",
   "metadata": {},
   "source": [
    "Write a NumPy program to create a 5x5 zero matrix with elements on the main diagonal equal to 1, 2, 3, 4, 5"
   ]
  },
  {
   "cell_type": "code",
   "execution_count": 83,
   "id": "ac9c9c4e",
   "metadata": {
    "ExecuteTime": {
     "end_time": "2022-02-26T22:16:07.177799Z",
     "start_time": "2022-02-26T22:16:07.159804Z"
    }
   },
   "outputs": [
    {
     "data": {
      "text/plain": [
       "array([[1, 0, 0, 0, 0],\n",
       "       [0, 2, 0, 0, 0],\n",
       "       [0, 0, 3, 0, 0],\n",
       "       [0, 0, 0, 4, 0],\n",
       "       [0, 0, 0, 0, 5]])"
      ]
     },
     "execution_count": 83,
     "metadata": {},
     "output_type": "execute_result"
    }
   ],
   "source": [
    "arr=np.diag([1,2,3,4,5])\n",
    "arr"
   ]
  },
  {
   "cell_type": "markdown",
   "id": "2704098f",
   "metadata": {},
   "source": [
    "Write a NumPy program to create a 4x4 matrix in which 0 and 1 are staggered, with zeros on the main diagonal"
   ]
  },
  {
   "cell_type": "code",
   "execution_count": 89,
   "id": "14226c92",
   "metadata": {
    "ExecuteTime": {
     "end_time": "2022-02-26T22:23:49.296060Z",
     "start_time": "2022-02-26T22:23:49.285046Z"
    }
   },
   "outputs": [
    {
     "data": {
      "text/plain": [
       "array([[0., 1., 0., 1.],\n",
       "       [1., 0., 1., 0.],\n",
       "       [0., 1., 0., 1.],\n",
       "       [1., 0., 1., 0.]])"
      ]
     },
     "execution_count": 89,
     "metadata": {},
     "output_type": "execute_result"
    }
   ],
   "source": [
    "arr=np.zeros((4,4))\n",
    "arr[::2,1::2]=1  ##Starts from row 0 and move 1 rows ##starts from colm 1 and move 2 colms make it one \n",
    "arr[1::2,::2]=1\n",
    "arr"
   ]
  },
  {
   "cell_type": "markdown",
   "id": "8f5c66d5",
   "metadata": {},
   "source": [
    "Write a NumPy program to create a 3x3x3 array filled with arbitrary values"
   ]
  },
  {
   "cell_type": "code",
   "execution_count": 93,
   "id": "36c9dcaa",
   "metadata": {
    "ExecuteTime": {
     "end_time": "2022-02-26T22:26:23.985109Z",
     "start_time": "2022-02-26T22:26:23.314744Z"
    }
   },
   "outputs": [
    {
     "data": {
      "text/plain": [
       "array([[[0.9131871 , 0.8065042 , 0.69667107],\n",
       "        [0.58553876, 0.49168966, 0.49361333],\n",
       "        [0.44657084, 0.76997282, 0.06499084]],\n",
       "\n",
       "       [[0.74711674, 0.78046531, 0.61986425],\n",
       "        [0.68642284, 0.75711285, 0.81414971],\n",
       "        [0.10336059, 0.81355934, 0.44577622]],\n",
       "\n",
       "       [[0.54799376, 0.78284634, 0.70916039],\n",
       "        [0.74249822, 0.43979006, 0.22608761],\n",
       "        [0.60318614, 0.6152773 , 0.24253858]]])"
      ]
     },
     "execution_count": 93,
     "metadata": {},
     "output_type": "execute_result"
    }
   ],
   "source": [
    "arr=np.random.random((3,3,3))\n",
    "arr"
   ]
  },
  {
   "cell_type": "markdown",
   "id": "e0353adc",
   "metadata": {},
   "source": [
    "Write a NumPy program to compute sum of all elements, sum of each column and sum of each row of a given array"
   ]
  },
  {
   "cell_type": "code",
   "execution_count": 103,
   "id": "423e2ec8",
   "metadata": {
    "ExecuteTime": {
     "end_time": "2022-02-26T22:32:39.906794Z",
     "start_time": "2022-02-26T22:32:39.897811Z"
    }
   },
   "outputs": [
    {
     "name": "stdout",
     "output_type": "stream",
     "text": [
      "rows sum [6 6 6]\n",
      "colms sum [3 6 9]\n"
     ]
    }
   ],
   "source": [
    "arr=np.array([[1,2,3],[1,2,3],[1,2,3]])\n",
    "print(\"rows sum\",arr.sum(1))\n",
    "print(\"colms sum\",arr.sum(0))"
   ]
  },
  {
   "cell_type": "markdown",
   "id": "147dc09b",
   "metadata": {},
   "source": [
    "# Write a NumPy program to compute the inner product of two given vectors"
   ]
  },
  {
   "cell_type": "code",
   "execution_count": 104,
   "id": "3f737226",
   "metadata": {
    "ExecuteTime": {
     "end_time": "2022-02-26T22:36:14.471350Z",
     "start_time": "2022-02-26T22:36:14.454332Z"
    }
   },
   "outputs": [
    {
     "data": {
      "text/plain": [
       "5550"
      ]
     },
     "execution_count": 104,
     "metadata": {},
     "output_type": "execute_result"
    }
   ],
   "source": [
    "vect1=np.array([10,100,1000])\n",
    "vect2=np.array([5,5,5])\n",
    "np.dot(vect1,vect2)"
   ]
  },
  {
   "cell_type": "markdown",
   "id": "8c62dc27",
   "metadata": {},
   "source": [
    "Write a NumPy program to add a vector to each row of a given matrix."
   ]
  },
  {
   "cell_type": "code",
   "execution_count": 106,
   "id": "b558b7d8",
   "metadata": {
    "ExecuteTime": {
     "end_time": "2022-02-26T22:38:11.949571Z",
     "start_time": "2022-02-26T22:38:11.929625Z"
    }
   },
   "outputs": [
    {
     "data": {
      "text/plain": [
       "array([[  15,  105, 1005],\n",
       "       [  15,  105, 1005],\n",
       "       [  15,  105, 1005]])"
      ]
     },
     "execution_count": 106,
     "metadata": {},
     "output_type": "execute_result"
    }
   ],
   "source": [
    "vect1=np.array([[10,100,1000],[10,100,1000],[10,100,1000]])\n",
    "vect2=np.array([[5,5,5],[5,5,5],[5,5,5]])\n",
    "np.add(vect1,vect2)"
   ]
  },
  {
   "cell_type": "markdown",
   "id": "bb22149d",
   "metadata": {},
   "source": [
    "Write a NumPy program to save a given array to a binary file "
   ]
  },
  {
   "cell_type": "code",
   "execution_count": 107,
   "id": "4b1a93a7",
   "metadata": {
    "ExecuteTime": {
     "end_time": "2022-02-26T22:39:46.063005Z",
     "start_time": "2022-02-26T22:39:46.055026Z"
    }
   },
   "outputs": [],
   "source": [
    "np.save(\"File try .npy\",vect1)"
   ]
  },
  {
   "cell_type": "markdown",
   "id": "2c2aa79c",
   "metadata": {},
   "source": [
    "Write a NumPy program to save two given arrays into a single file in compressed format (.npz format) and load it."
   ]
  },
  {
   "cell_type": "code",
   "execution_count": null,
   "id": "340e54b7",
   "metadata": {},
   "outputs": [],
   "source": []
  },
  {
   "cell_type": "markdown",
   "id": "7c0bf358",
   "metadata": {},
   "source": [
    " Write a NumPy program to save a given array to a text file and load it"
   ]
  },
  {
   "cell_type": "code",
   "execution_count": null,
   "id": "35362985",
   "metadata": {},
   "outputs": [],
   "source": []
  },
  {
   "cell_type": "markdown",
   "id": "67eb611f",
   "metadata": {},
   "source": [
    " Write a NumPy program to convert a given array into bytes, and load it as array."
   ]
  },
  {
   "cell_type": "code",
   "execution_count": 110,
   "id": "839ae02e",
   "metadata": {
    "ExecuteTime": {
     "end_time": "2022-02-26T22:44:17.395641Z",
     "start_time": "2022-02-26T22:44:17.377719Z"
    }
   },
   "outputs": [
    {
     "data": {
      "text/plain": [
       "array([ 100,   44,  -12,  -68, -124,   76,   20,  -36,  -92,  108],\n",
       "      dtype=int8)"
      ]
     },
     "execution_count": 110,
     "metadata": {},
     "output_type": "execute_result"
    }
   ],
   "source": [
    "vect1=np.arange(100,2000,200)\n",
    "np.byte(vect1)"
   ]
  },
  {
   "cell_type": "markdown",
   "id": "0731a581",
   "metadata": {},
   "source": [
    "Write a NumPy program to convert a given list into an array, then again convert it into a list. Check initial list and final list are equal or not."
   ]
  },
  {
   "cell_type": "code",
   "execution_count": 111,
   "id": "e5f1e41b",
   "metadata": {
    "ExecuteTime": {
     "end_time": "2022-02-26T22:45:46.875894Z",
     "start_time": "2022-02-26T22:45:46.858923Z"
    }
   },
   "outputs": [
    {
     "data": {
      "text/plain": [
       "True"
      ]
     },
     "execution_count": 111,
     "metadata": {},
     "output_type": "execute_result"
    }
   ],
   "source": [
    "l1=[10,5,6]\n",
    "arr=np.array(l1)\n",
    "list(arr)==l1"
   ]
  },
  {
   "cell_type": "markdown",
   "id": "15fd6855",
   "metadata": {},
   "source": [
    "Write a NumPy program to compute the x and y coordinates for points on a sine curve and plot the points using matplotlib"
   ]
  },
  {
   "cell_type": "code",
   "execution_count": 118,
   "id": "40d5f386",
   "metadata": {
    "ExecuteTime": {
     "end_time": "2022-02-26T22:48:08.200589Z",
     "start_time": "2022-02-26T22:48:08.087367Z"
    }
   },
   "outputs": [
    {
     "data": {
      "text/plain": [
       "[<matplotlib.lines.Line2D at 0x2e0c871f070>]"
      ]
     },
     "execution_count": 118,
     "metadata": {},
     "output_type": "execute_result"
    },
    {
     "data": {
      "image/png": "[encoded data removed]",
      "text/plain": [
       "<Figure size 432x288 with 1 Axes>"
      ]
     },
     "metadata": {
      "needs_background": "light"
     },
     "output_type": "display_data"
    }
   ],
   "source": [
    "x=np.linspace(0,10)\n",
    "y=np.sin(x)\n",
    "import matplotlib.pyplot as plt \n",
    "plt.plot(x,y)"
   ]
  },
  {
   "cell_type": "markdown",
   "id": "baae55c5",
   "metadata": {},
   "source": [
    "Write a NumPy program to convert numpy dtypes to native python types"
   ]
  },
  {
   "cell_type": "code",
   "execution_count": 119,
   "id": "96517d2a",
   "metadata": {
    "ExecuteTime": {
     "end_time": "2022-02-26T22:55:23.223146Z",
     "start_time": "2022-02-26T22:55:23.202167Z"
    }
   },
   "outputs": [
    {
     "name": "stdout",
     "output_type": "stream",
     "text": [
      "<class 'numpy.float32'>\n",
      "<class 'float'>\n"
     ]
    }
   ],
   "source": [
    "x = np.float32(0)\n",
    "print(type(x))\n",
    "pyval = x.item()\n",
    "print(type(pyval))"
   ]
  },
  {
   "cell_type": "markdown",
   "id": "5fed0c3d",
   "metadata": {},
   "source": [
    "Write a NumPy program to add elements in a matrix. If an element in the matrix is 0, we will not add the element below this element."
   ]
  },
  {
   "cell_type": "code",
   "execution_count": 124,
   "id": "ab5658b6",
   "metadata": {
    "ExecuteTime": {
     "end_time": "2022-02-26T23:05:46.897793Z",
     "start_time": "2022-02-26T23:05:46.874853Z"
    }
   },
   "outputs": [
    {
     "data": {
      "text/plain": [
       "53"
      ]
     },
     "execution_count": 124,
     "metadata": {},
     "output_type": "execute_result"
    }
   ],
   "source": [
    "def get_The_sum(arr):\n",
    "    element=0\n",
    "    sumation=0\n",
    "    for i in range(arr.shape[0]):\n",
    "        for j in range(arr.shape[1]):\n",
    "            if arr[i][j]==0 and i<arr.shape[0]-1:\n",
    "                element=arr[i+1][j]\n",
    "            else: sumation+=arr[i][j]\n",
    "    return sumation-element\n",
    "arr=np.array([[10,5,6],[10,5,6],[0,5,6]])\n",
    "get_The_sum(arr)\n"
   ]
  },
  {
   "cell_type": "markdown",
   "id": "b48de177",
   "metadata": {},
   "source": [
    "Write a NumPy program to find the missing data in a given array."
   ]
  },
  {
   "cell_type": "code",
   "execution_count": 125,
   "id": "9f144ef3",
   "metadata": {
    "ExecuteTime": {
     "end_time": "2022-02-26T23:14:08.796252Z",
     "start_time": "2022-02-26T23:14:08.789269Z"
    }
   },
   "outputs": [
    {
     "data": {
      "text/plain": [
       "array([False,  True, False])"
      ]
     },
     "execution_count": 125,
     "metadata": {},
     "output_type": "execute_result"
    }
   ],
   "source": [
    "arr=np.array([0,np.nan,5])\n",
    "np.isnan(arr)"
   ]
  },
  {
   "cell_type": "markdown",
   "id": "63f766a9",
   "metadata": {},
   "source": [
    "Write a NumPy program to check whether two arrays are equal (element wise) or not."
   ]
  },
  {
   "cell_type": "code",
   "execution_count": 127,
   "id": "4c828a5c",
   "metadata": {
    "ExecuteTime": {
     "end_time": "2022-02-26T23:20:21.663904Z",
     "start_time": "2022-02-26T23:20:21.655926Z"
    }
   },
   "outputs": [
    {
     "data": {
      "text/plain": [
       "array([False,  True,  True])"
      ]
     },
     "execution_count": 127,
     "metadata": {},
     "output_type": "execute_result"
    }
   ],
   "source": [
    "nums1 = np.array([0.5, 1.5, 0.2])\n",
    "nums2 = np.array([0.4999999999, 1.500000000, 0.2])\n",
    "np.equal(nums1,nums2)"
   ]
  },
  {
   "cell_type": "markdown",
   "id": "aa57652e",
   "metadata": {},
   "source": [
    "Write a NumPy program to create one-dimensional array of single, two and three digit numbers."
   ]
  },
  {
   "cell_type": "code",
   "execution_count": 128,
   "id": "ea921d9e",
   "metadata": {
    "ExecuteTime": {
     "end_time": "2022-02-26T23:23:22.809484Z",
     "start_time": "2022-02-26T23:23:22.793528Z"
    }
   },
   "outputs": [
    {
     "name": "stdout",
     "output_type": "stream",
     "text": [
      "One-dimensional array of single digit numbers:\n",
      "[ 1  2  3  4  5  6  7  8  9 10 11 12 13 14 15 16 17 18 19 20]\n",
      "\n",
      "One-dimensional array of two digit numbers:\n",
      "[10 11 12 13 14 15 16 17 18 19 20]\n",
      "\n",
      "One-dimensional array of three digit numbers:\n",
      "[100 101 102 103 104 105 106 107 108 109 110 111 112 113 114 115 116 117\n",
      " 118 119 120 121 122 123 124 125 126 127 128 129 130 131 132 133 134 135\n",
      " 136 137 138 139 140 141 142 143 144 145 146 147 148 149 150 151 152 153\n",
      " 154 155 156 157 158 159 160 161 162 163 164 165 166 167 168 169 170 171\n",
      " 172 173 174 175 176 177 178 179 180 181 182 183 184 185 186 187 188 189\n",
      " 190 191 192 193 194 195 196 197 198 199 200]\n"
     ]
    }
   ],
   "source": [
    "nums = np.arange(1, 21)\n",
    "print(\"One-dimensional array of single digit numbers:\") \n",
    "print(nums)\n",
    "nums = np.arange(10, 21)\n",
    "print(\"\\nOne-dimensional array of two digit numbers:\") \n",
    "print(nums)\n",
    "nums = np.arange(100, 201)\n",
    "print(\"\\nOne-dimensional array of three digit numbers:\") \n",
    "print(nums)"
   ]
  },
  {
   "cell_type": "markdown",
   "id": "1ae81e31",
   "metadata": {},
   "source": [
    "Write a NumPy program to create a two-dimensional array of specified format."
   ]
  },
  {
   "cell_type": "code",
   "execution_count": null,
   "id": "3e8424f8",
   "metadata": {},
   "outputs": [],
   "source": []
  },
  {
   "cell_type": "markdown",
   "id": "84999142",
   "metadata": {},
   "source": [
    "Write a NumPy program to create a one dimensional array of forty pseudo-randomly generated values. Select random numbers from a uniform distribution between 0 and 1."
   ]
  },
  {
   "cell_type": "code",
   "execution_count": 130,
   "id": "a89c8b4f",
   "metadata": {
    "ExecuteTime": {
     "end_time": "2022-02-26T23:26:01.609542Z",
     "start_time": "2022-02-26T23:26:01.600527Z"
    }
   },
   "outputs": [
    {
     "name": "stdout",
     "output_type": "stream",
     "text": [
      "[0.54340494 0.27836939 0.42451759 0.84477613 0.00471886 0.12156912\n",
      " 0.67074908 0.82585276 0.13670659 0.57509333 0.89132195 0.20920212\n",
      " 0.18532822 0.10837689 0.21969749 0.97862378 0.81168315 0.17194101\n",
      " 0.81622475 0.27407375 0.43170418 0.94002982 0.81764938 0.33611195\n",
      " 0.17541045 0.37283205 0.00568851 0.25242635 0.79566251 0.01525497\n",
      " 0.59884338 0.60380454 0.10514769 0.38194344 0.03647606 0.89041156\n",
      " 0.98092086 0.05994199 0.89054594 0.5769015 ]\n"
     ]
    }
   ],
   "source": [
    "np.random.seed(100)\n",
    "print(np.random.rand(40))"
   ]
  },
  {
   "cell_type": "markdown",
   "id": "894f62dd",
   "metadata": {},
   "source": [
    "Write a NumPy program to create a two-dimensional array with shape (8,5) of random numbers. Select random numbers from a normal distribution (200,7)."
   ]
  },
  {
   "cell_type": "code",
   "execution_count": 131,
   "id": "75f436eb",
   "metadata": {
    "ExecuteTime": {
     "end_time": "2022-02-26T23:28:02.134436Z",
     "start_time": "2022-02-26T23:28:02.121452Z"
    }
   },
   "outputs": [
    {
     "name": "stdout",
     "output_type": "stream",
     "text": [
      "[[201.6908267  200.37467631 200.68394275 195.51750123]\n",
      " [197.92478992 201.07066048 201.79714021 198.1282331 ]\n",
      " [200.96238963 200.77744291 200.61875865 199.05613894]\n",
      " [198.48492638 198.38860811 197.55239946 200.47003621]\n",
      " [199.91545839 202.99877319 202.01069857 200.77735483]\n",
      " [199.67739161 193.89831807 202.14273593 202.54951299]\n",
      " [199.53450969 199.7512602  199.79145727 202.97687757]\n",
      " [200.24634413 196.04606934 198.30611253 197.88701546]\n",
      " [201.78450912 203.94032834 198.21152803 196.91446071]\n",
      " [201.0082481  197.03285104 200.63052763 197.82590294]]\n"
     ]
    }
   ],
   "source": [
    "np.random.seed(20) \n",
    "cbrt = np.cbrt(7)\n",
    "nd1 = 200 \n",
    "print(cbrt * np.random.randn(10, 4) + nd1)"
   ]
  },
  {
   "cell_type": "markdown",
   "id": "b2cdf759",
   "metadata": {},
   "source": [
    "Write a NumPy program to generate a uniform, non-uniform random sample from a given 1-D array with and without replacement."
   ]
  },
  {
   "cell_type": "code",
   "execution_count": 133,
   "id": "a06ae738",
   "metadata": {
    "ExecuteTime": {
     "end_time": "2022-02-26T23:29:39.995367Z",
     "start_time": "2022-02-26T23:29:39.979365Z"
    }
   },
   "outputs": [
    {
     "data": {
      "text/plain": [
       "array([ 6, 89, 65,  7, 34, 45, 88,  3, 26, 59])"
      ]
     },
     "execution_count": 133,
     "metadata": {},
     "output_type": "execute_result"
    }
   ],
   "source": [
    "np.random.choice(100,10,replace=False)"
   ]
  },
  {
   "cell_type": "markdown",
   "id": "72d31121",
   "metadata": {},
   "source": [
    "Write a NumPy program to create a 4x4 array with random values, now create a new array from the said array swapping first and last rows"
   ]
  },
  {
   "cell_type": "code",
   "execution_count": 151,
   "id": "191fe480",
   "metadata": {
    "ExecuteTime": {
     "end_time": "2022-02-26T23:37:28.700508Z",
     "start_time": "2022-02-26T23:37:28.682592Z"
    }
   },
   "outputs": [
    {
     "name": "stdout",
     "output_type": "stream",
     "text": [
      "[[0.48005178 0.70991876 0.01764816 0.06360523]\n",
      " [0.11697344 0.8308852  0.30623784 0.61329378]\n",
      " [0.55355151 0.7871431  0.82466927 0.81921257]\n",
      " [0.05648416 0.89033498 0.95178156 0.22111916]]\n",
      "[[0.05648416 0.89033498 0.95178156 0.22111916]\n",
      " [0.55355151 0.7871431  0.82466927 0.81921257]\n",
      " [0.11697344 0.8308852  0.30623784 0.61329378]\n",
      " [0.48005178 0.70991876 0.01764816 0.06360523]]\n"
     ]
    }
   ],
   "source": [
    "SAID=np.random.random((4,4))\n",
    "SAID2=SAID[::-1]\n",
    "print(SAID)\n",
    "print(SAID2)"
   ]
  },
  {
   "cell_type": "markdown",
   "id": "550cee5f",
   "metadata": {},
   "source": []
  }
 ],
 "metadata": {
  "kernelspec": {
   "display_name": "Python 3 (ipykernel)",
   "language": "python",
   "name": "python3"
  },
  "language_info": {
   "codemirror_mode": {
    "name": "ipython",
    "version": 3
   },
   "file_extension": ".py",
   "mimetype": "text/x-python",
   "name": "python",
   "nbconvert_exporter": "python",
   "pygments_lexer": "ipython3",
   "version": "3.9.7"
  }
 },
 "nbformat": 4,
 "nbformat_minor": 5
}
