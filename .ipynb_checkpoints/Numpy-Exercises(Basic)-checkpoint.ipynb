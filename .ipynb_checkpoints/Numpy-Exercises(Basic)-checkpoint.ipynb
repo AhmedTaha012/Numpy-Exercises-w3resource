{
 "cells": [
  {
   "cell_type": "code",
   "execution_count": 2,
   "id": "a2b1bd6a",
   "metadata": {
    "ExecuteTime": {
     "end_time": "2022-02-25T22:53:40.036449Z",
     "start_time": "2022-02-25T22:53:40.016296Z"
    }
   },
   "outputs": [],
   "source": [
    "import numpy as np"
   ]
  },
  {
   "cell_type": "markdown",
   "id": "0ca2730b",
   "metadata": {},
   "source": [
    "1)Write a NumPy program to get the numpy version and show numpy build configuration"
   ]
  },
  {
   "cell_type": "code",
   "execution_count": 2,
   "id": "db5ef514",
   "metadata": {
    "ExecuteTime": {
     "end_time": "2022-02-25T22:45:24.318647Z",
     "start_time": "2022-02-25T22:45:24.294153Z"
    }
   },
   "outputs": [
    {
     "name": "stdout",
     "output_type": "stream",
     "text": [
      "1.21.2\n",
      "blas_mkl_info:\n",
      "  NOT AVAILABLE\n",
      "blis_info:\n",
      "  NOT AVAILABLE\n",
      "openblas_info:\n",
      "    library_dirs = ['D:\\\\a\\\\1\\\\s\\\\numpy\\\\build\\\\openblas_info']\n",
      "    libraries = ['openblas_info']\n",
      "    language = f77\n",
      "    define_macros = [('HAVE_CBLAS', None)]\n",
      "blas_opt_info:\n",
      "    library_dirs = ['D:\\\\a\\\\1\\\\s\\\\numpy\\\\build\\\\openblas_info']\n",
      "    libraries = ['openblas_info']\n",
      "    language = f77\n",
      "    define_macros = [('HAVE_CBLAS', None)]\n",
      "lapack_mkl_info:\n",
      "  NOT AVAILABLE\n",
      "openblas_lapack_info:\n",
      "    library_dirs = ['D:\\\\a\\\\1\\\\s\\\\numpy\\\\build\\\\openblas_lapack_info']\n",
      "    libraries = ['openblas_lapack_info']\n",
      "    language = f77\n",
      "    define_macros = [('HAVE_CBLAS', None)]\n",
      "lapack_opt_info:\n",
      "    library_dirs = ['D:\\\\a\\\\1\\\\s\\\\numpy\\\\build\\\\openblas_lapack_info']\n",
      "    libraries = ['openblas_lapack_info']\n",
      "    language = f77\n",
      "    define_macros = [('HAVE_CBLAS', None)]\n",
      "Supported SIMD extensions in this NumPy install:\n",
      "    baseline = SSE,SSE2,SSE3\n",
      "    found = SSSE3,SSE41,POPCNT,SSE42,AVX,F16C,FMA3,AVX2\n",
      "    not found = AVX512F,AVX512CD,AVX512_SKX,AVX512_CLX,AVX512_CNL\n",
      "None\n"
     ]
    }
   ],
   "source": [
    "print(np.version.version)\n",
    "print(np.show_config())"
   ]
  },
  {
   "cell_type": "markdown",
   "id": "11a6a56d",
   "metadata": {},
   "source": [
    "2)Write a NumPy program to  get help on the add function"
   ]
  },
  {
   "cell_type": "code",
   "execution_count": 4,
   "id": "0ea3404c",
   "metadata": {
    "ExecuteTime": {
     "end_time": "2022-02-25T22:55:24.580433Z",
     "start_time": "2022-02-25T22:55:24.566626Z"
    }
   },
   "outputs": [
    {
     "name": "stdout",
     "output_type": "stream",
     "text": [
      "add(x1, x2, /, out=None, *, where=True, casting='same_kind', order='K', dtype=None, subok=True[, signature, extobj])\n",
      "\n",
      "Add arguments element-wise.\n",
      "\n",
      "Parameters\n",
      "----------\n",
      "x1, x2 : array_like\n",
      "    The arrays to be added.\n",
      "    If ``x1.shape != x2.shape``, they must be broadcastable to a common\n",
      "    shape (which becomes the shape of the output).\n",
      "out : ndarray, None, or tuple of ndarray and None, optional\n",
      "    A location into which the result is stored. If provided, it must have\n",
      "    a shape that the inputs broadcast to. If not provided or None,\n",
      "    a freshly-allocated array is returned. A tuple (possible only as a\n",
      "    keyword argument) must have length equal to the number of outputs.\n",
      "where : array_like, optional\n",
      "    This condition is broadcast over the input. At locations where the\n",
      "    condition is True, the `out` array will be set to the ufunc result.\n",
      "    Elsewhere, the `out` array will retain its original value.\n",
      "    Note that if an uninitialized `out` array is created via the default\n",
      "    ``out=None``, locations within it where the condition is False will\n",
      "    remain uninitialized.\n",
      "**kwargs\n",
      "    For other keyword-only arguments, see the\n",
      "    :ref:`ufunc docs <ufuncs.kwargs>`.\n",
      "\n",
      "Returns\n",
      "-------\n",
      "add : ndarray or scalar\n",
      "    The sum of `x1` and `x2`, element-wise.\n",
      "    This is a scalar if both `x1` and `x2` are scalars.\n",
      "\n",
      "Notes\n",
      "-----\n",
      "Equivalent to `x1` + `x2` in terms of array broadcasting.\n",
      "\n",
      "Examples\n",
      "--------\n",
      ">>> np.add(1.0, 4.0)\n",
      "5.0\n",
      ">>> x1 = np.arange(9.0).reshape((3, 3))\n",
      ">>> x2 = np.arange(3.0)\n",
      ">>> np.add(x1, x2)\n",
      "array([[  0.,   2.,   4.],\n",
      "       [  3.,   5.,   7.],\n",
      "       [  6.,   8.,  10.]])\n",
      "\n",
      "The ``+`` operator can be used as a shorthand for ``np.add`` on ndarrays.\n",
      "\n",
      ">>> x1 = np.arange(9.0).reshape((3, 3))\n",
      ">>> x2 = np.arange(3.0)\n",
      ">>> x1 + x2\n",
      "array([[ 0.,  2.,  4.],\n",
      "       [ 3.,  5.,  7.],\n",
      "       [ 6.,  8., 10.]])\n"
     ]
    }
   ],
   "source": [
    "np.info(np.add)"
   ]
  },
  {
   "cell_type": "markdown",
   "id": "86f606b2",
   "metadata": {},
   "source": [
    "3. Write a NumPy program to test whether none of the elements of a given array is zero"
   ]
  },
  {
   "cell_type": "code",
   "execution_count": 9,
   "id": "c0d3014a",
   "metadata": {
    "ExecuteTime": {
     "end_time": "2022-02-25T23:02:20.596626Z",
     "start_time": "2022-02-25T23:02:20.574686Z"
    }
   },
   "outputs": [
    {
     "data": {
      "text/plain": [
       "False"
      ]
     },
     "execution_count": 9,
     "metadata": {},
     "output_type": "execute_result"
    }
   ],
   "source": [
    "array=np.array([10,5,0])\n",
    "np.all(array)"
   ]
  },
  {
   "cell_type": "markdown",
   "id": "3c003d21",
   "metadata": {},
   "source": [
    "4. Write a NumPy program to test whether any of the elements of a given array is non-zero"
   ]
  },
  {
   "cell_type": "code",
   "execution_count": 11,
   "id": "2bb87c1e",
   "metadata": {
    "ExecuteTime": {
     "end_time": "2022-02-25T23:07:11.407040Z",
     "start_time": "2022-02-25T23:07:11.390033Z"
    }
   },
   "outputs": [
    {
     "data": {
      "text/plain": [
       "True"
      ]
     },
     "execution_count": 11,
     "metadata": {},
     "output_type": "execute_result"
    }
   ],
   "source": [
    "array=np.array([10,0,0])\n",
    "np.any(array)##only one elemet not zero"
   ]
  },
  {
   "cell_type": "markdown",
   "id": "d22cb88f",
   "metadata": {},
   "source": [
    "5. Write a NumPy program to test a given array element-wise for finiteness"
   ]
  },
  {
   "cell_type": "code",
   "execution_count": 17,
   "id": "021c1259",
   "metadata": {
    "ExecuteTime": {
     "end_time": "2022-02-25T23:15:34.449178Z",
     "start_time": "2022-02-25T23:15:34.432911Z"
    }
   },
   "outputs": [
    {
     "data": {
      "text/plain": [
       "array([ True,  True,  True])"
      ]
     },
     "execution_count": 17,
     "metadata": {},
     "output_type": "execute_result"
    }
   ],
   "source": [
    "array=np.array([10,4,6])\n",
    "np.isfinite(array)"
   ]
  },
  {
   "cell_type": "markdown",
   "id": "ad28da9a",
   "metadata": {},
   "source": [
    "6. Write a NumPy program to test element-wise for positive or negative infinity"
   ]
  },
  {
   "cell_type": "code",
   "execution_count": 21,
   "id": "6ecee091",
   "metadata": {
    "ExecuteTime": {
     "end_time": "2022-02-25T23:19:00.943781Z",
     "start_time": "2022-02-25T23:19:00.930072Z"
    }
   },
   "outputs": [
    {
     "name": "stdout",
     "output_type": "stream",
     "text": [
      "[False  True  True]\n",
      "[False False False]\n"
     ]
    }
   ],
   "source": [
    "array=np.array([10,np.Inf,np.Inf])\n",
    "print(np.isposinf(array))\n",
    "print(np.isneginf(array))"
   ]
  },
  {
   "cell_type": "markdown",
   "id": "341fbce3",
   "metadata": {},
   "source": [
    "7. Write a NumPy program to test element-wise for NaN of a given array."
   ]
  },
  {
   "cell_type": "code",
   "execution_count": 22,
   "id": "95b5b474",
   "metadata": {
    "ExecuteTime": {
     "end_time": "2022-02-25T23:20:10.567264Z",
     "start_time": "2022-02-25T23:20:10.548017Z"
    }
   },
   "outputs": [
    {
     "data": {
      "text/plain": [
       "array([False, False,  True])"
      ]
     },
     "execution_count": 22,
     "metadata": {},
     "output_type": "execute_result"
    }
   ],
   "source": [
    "array=np.array([10,np.Inf,np.NAN])\n",
    "np.isnan(array)"
   ]
  },
  {
   "cell_type": "markdown",
   "id": "79986691",
   "metadata": {},
   "source": [
    "8. Write a NumPy program to test element-wise for complex number, real number of a given array. Also test whether a given number is a scalar type or not."
   ]
  },
  {
   "cell_type": "code",
   "execution_count": 24,
   "id": "d0177bc2",
   "metadata": {
    "ExecuteTime": {
     "end_time": "2022-02-25T23:25:45.835475Z",
     "start_time": "2022-02-25T23:25:45.821465Z"
    }
   },
   "outputs": [
    {
     "name": "stdout",
     "output_type": "stream",
     "text": [
      "[False False False  True  True]\n",
      "False\n",
      "[ True  True  True False False]\n"
     ]
    }
   ],
   "source": [
    "array=np.array([10,np.Inf,np.NAN,1+2j,5+8j])\n",
    "print(np.iscomplex(array))\n",
    "print(np.isscalar(array))\n",
    "print(np.isreal(array))"
   ]
  },
  {
   "cell_type": "markdown",
   "id": "4c04d4ba",
   "metadata": {},
   "source": [
    "9. Write a NumPy program to test whether two arrays are element-wise equal within a tolerance."
   ]
  },
  {
   "cell_type": "code",
   "execution_count": 27,
   "id": "f889619e",
   "metadata": {
    "ExecuteTime": {
     "end_time": "2022-02-25T23:31:30.340717Z",
     "start_time": "2022-02-25T23:31:30.330907Z"
    }
   },
   "outputs": [
    {
     "data": {
      "text/plain": [
       "True"
      ]
     },
     "execution_count": 27,
     "metadata": {},
     "output_type": "execute_result"
    }
   ],
   "source": [
    "array1=np.array([1e10,1e-8])\n",
    "array2=np.array([1.0000e10,1e-8])\n",
    "np.allclose(array1,array2)"
   ]
  },
  {
   "cell_type": "markdown",
   "id": "e251a682",
   "metadata": {},
   "source": [
    "10. Write a NumPy program to create an element-wise comparison (greater, greater_equal, less and less_equal) of two given arrays."
   ]
  },
  {
   "cell_type": "code",
   "execution_count": 29,
   "id": "758d785b",
   "metadata": {
    "ExecuteTime": {
     "end_time": "2022-02-25T23:36:29.493684Z",
     "start_time": "2022-02-25T23:36:29.483711Z"
    }
   },
   "outputs": [
    {
     "name": "stdout",
     "output_type": "stream",
     "text": [
      "[False False]\n",
      "[False  True]\n",
      "[ True False]\n",
      "[ True  True]\n"
     ]
    }
   ],
   "source": [
    "x=np.array([3,8])\n",
    "y=np.array([7,8])\n",
    "print(np.greater(x,y))\n",
    "print(np.greater_equal(x,y))\n",
    "print(np.less(x,y))\n",
    "print(np.less_equal(x,y))"
   ]
  },
  {
   "cell_type": "markdown",
   "id": "550cee5f",
   "metadata": {},
   "source": []
  }
 ],
 "metadata": {
  "kernelspec": {
   "display_name": "Python 3 (ipykernel)",
   "language": "python",
   "name": "python3"
  },
  "language_info": {
   "codemirror_mode": {
    "name": "ipython",
    "version": 3
   },
   "file_extension": ".py",
   "mimetype": "text/x-python",
   "name": "python",
   "nbconvert_exporter": "python",
   "pygments_lexer": "ipython3",
   "version": "3.9.7"
  }
 },
 "nbformat": 4,
 "nbformat_minor": 5
}
